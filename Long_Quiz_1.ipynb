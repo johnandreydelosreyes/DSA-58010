{
  "nbformat": 4,
  "nbformat_minor": 0,
  "metadata": {
    "colab": {
      "provenance": [],
      "authorship_tag": "ABX9TyO8190ChIlxtbQjZkJTvQUf",
      "include_colab_link": true
    },
    "kernelspec": {
      "name": "python3",
      "display_name": "Python 3"
    },
    "language_info": {
      "name": "python"
    }
  },
  "cells": [
    {
      "cell_type": "markdown",
      "metadata": {
        "id": "view-in-github",
        "colab_type": "text"
      },
      "source": [
        "<a href=\"https://colab.research.google.com/github/seulwlrma/DSA-58010/blob/main/Long_Quiz_1.ipynb\" target=\"_parent\"><img src=\"https://colab.research.google.com/assets/colab-badge.svg\" alt=\"Open In Colab\"/></a>"
      ]
    },
    {
      "cell_type": "markdown",
      "source": [
        "Long Quiz 1"
      ],
      "metadata": {
        "id": "edA7_P9wQd5F"
      }
    },
    {
      "cell_type": "code",
      "source": [
        "class ll:\n",
        "  def __init__(self, value, second=None):\n",
        "    self.value = value\n",
        "    self.second = second\n",
        "\n",
        "one = ll(\"s\")\n",
        "two = ll(\"e\")\n",
        "three = ll(\"y\")\n",
        "four = ll(\"e\")\n",
        "five = ll(\"r\")\n",
        "six = ll(\" \")\n",
        "seven = ll(\"s\")\n",
        "eight = ll(\"o\")\n",
        "nine = ll(\"l\")\n",
        "ten = ll(\"e\")\n",
        "eleven = ll(\"d\")\n",
        "twelve= ll(\" \")\n",
        "thirteen = ll(\"y\")\n",
        "fourteen = ll(\"e\")\n",
        "fifteen = ll(\"r\")\n",
        "sixteen = ll(\"d\")\n",
        "seventeen = ll(\"n\")\n",
        "eighteen = ll(\"a\")\n",
        "nineteen = ll(\" \")\n",
        "twenty= ll(\"n\")\n",
        "twentyone = ll(\"h\")\n",
        "twentytwo = ll(\"o\")\n",
        "twentythree = ll(\"j\")\n",
        "\n",
        "one.second = two\n",
        "two.second = three\n",
        "three.second = four\n",
        "four.second = five\n",
        "five.second = six\n",
        "six.second = seven\n",
        "seven.second = eight\n",
        "eight.second = nine\n",
        "nine.second = ten\n",
        "ten.second = eleven\n",
        "eleven.second = twelve\n",
        "twelve.second = thirteen\n",
        "thirteen.second = fourteen\n",
        "fourteen.second = fifteen\n",
        "fifteen.second = sixteen\n",
        "sixteen.second = seventeen\n",
        "seventeen.second = eighteen\n",
        "eighteen.second = nineteen\n",
        "nineteen.second = twenty\n",
        "twenty.second = twentyone\n",
        "twentyone.second = twentytwo\n",
        "twentytwo.second = twentythree\n",
        "\n",
        "first = one\n",
        "while True:\n",
        "    print(first.value, \"\", end='')\n",
        "    if first.second is None:\n",
        "      print(\"\")\n",
        "      break\n",
        "    first = first.second"
      ],
      "metadata": {
        "colab": {
          "base_uri": "https://localhost:8080/"
        },
        "id": "JF728O9BQgFU",
        "outputId": "b2764302-26ce-46ab-dde9-64e22ef99394"
      },
      "execution_count": 19,
      "outputs": [
        {
          "output_type": "stream",
          "name": "stdout",
          "text": [
            "s e y e r   s o l e d   y e r d n a   n h o j \n"
          ]
        }
      ]
    }
  ]
}