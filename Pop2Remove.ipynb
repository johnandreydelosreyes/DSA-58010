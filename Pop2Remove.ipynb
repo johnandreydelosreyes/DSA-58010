{
  "nbformat": 4,
  "nbformat_minor": 0,
  "metadata": {
    "colab": {
      "provenance": [],
      "authorship_tag": "ABX9TyNZdf/sIfJmplI0kD9dC9XX",
      "include_colab_link": true
    },
    "kernelspec": {
      "name": "python3",
      "display_name": "Python 3"
    },
    "language_info": {
      "name": "python"
    }
  },
  "cells": [
    {
      "cell_type": "markdown",
      "metadata": {
        "id": "view-in-github",
        "colab_type": "text"
      },
      "source": [
        "<a href=\"https://colab.research.google.com/github/seulwlrma/DSA-58010/blob/main/Pop2Remove.ipynb\" target=\"_parent\"><img src=\"https://colab.research.google.com/assets/colab-badge.svg\" alt=\"Open In Colab\"/></a>"
      ]
    },
    {
      "cell_type": "code",
      "execution_count": 2,
      "metadata": {
        "colab": {
          "base_uri": "https://localhost:8080/",
          "height": 105
        },
        "id": "oY2UlWFl-DGC",
        "outputId": "1eaa0946-84c3-4bc8-96ce-916aa703b443"
      },
      "outputs": [
        {
          "output_type": "stream",
          "name": "stdout",
          "text": [
            "One\n",
            "Two\n",
            "Three\n",
            "Four\n"
          ]
        },
        {
          "output_type": "execute_result",
          "data": {
            "text/plain": [
              "'Four'"
            ],
            "application/vnd.google.colaboratory.intrinsic+json": {
              "type": "string"
            }
          },
          "metadata": {},
          "execution_count": 2
        }
      ],
      "source": [
        "#python program to demo stack using Linked List\n",
        "class node:\n",
        "  def __init__(self,data):\n",
        "    self.data = data\n",
        "    self.next = None  #initialize as null\n",
        "    self.head = []\n",
        "\n",
        "class LinkedList: \n",
        "  def __init__(self):\n",
        "    self.head = None #initialize head as null\n",
        "\n",
        "  def printList(self):\n",
        "      short = self.head\n",
        "      while(short):\n",
        "        print(short.data)\n",
        "        short = short.next\n",
        "\n",
        "  def is_empty(self):\n",
        "      if self.head == None:\n",
        "        return True\n",
        "      else:\n",
        "        return False\n",
        "\n",
        "  def remove(self):\n",
        "      if self.is_empty():\n",
        "        return None\n",
        "      else:\n",
        "        removednode = fourth\n",
        "        return removednode.data\n",
        "\n",
        "\n",
        "mylist = LinkedList()\n",
        "mylist.head = node('One')\n",
        "second = node('Two')\n",
        "third = node('Three')\n",
        "fourth = node('Four')\n",
        "\n",
        "mylist.head.next = second\n",
        "second.next = third\n",
        "third.next = fourth\n",
        "mylist.printList()\n",
        "mylist.remove()\n"
      ]
    }
  ]
}