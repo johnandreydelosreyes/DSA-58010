{
  "nbformat": 4,
  "nbformat_minor": 0,
  "metadata": {
    "colab": {
      "provenance": [],
      "authorship_tag": "ABX9TyNginExqvZPNuNz12N5uPzI",
      "include_colab_link": true
    },
    "kernelspec": {
      "name": "python3",
      "display_name": "Python 3"
    },
    "language_info": {
      "name": "python"
    }
  },
  "cells": [
    {
      "cell_type": "markdown",
      "metadata": {
        "id": "view-in-github",
        "colab_type": "text"
      },
      "source": [
        "<a href=\"https://colab.research.google.com/github/seulwlrma/DSA-58010/blob/main/Prelim_Exam.ipynb\" target=\"_parent\"><img src=\"https://colab.research.google.com/assets/colab-badge.svg\" alt=\"Open In Colab\"/></a>"
      ]
    },
    {
      "cell_type": "code",
      "source": [
        "import numpy as numpy\n",
        "even = [1, 2, 3, 4, 5, 6, 7, 8, 9, 10]\n",
        "print(even)\n",
        "\n",
        "num = 2 \n",
        "A = numpy.array([]) \n",
        "numofe = 0 \n",
        "\n",
        "while num < 11:  \n",
        "    A = numpy.append(A,[num]) \n",
        "    num=num+2\n",
        "for elements in A: \n",
        "\n",
        "  if (elements % 2 == 0):\n",
        "        numofe = numofe+1\n",
        "\n",
        "\n",
        "print(\"The even numbers in the bracket are\", numofe)        \n"
      ],
      "metadata": {
        "colab": {
          "base_uri": "https://localhost:8080/"
        },
        "id": "VLc2oNvSaXSZ",
        "outputId": "f4ad9b03-ff62-41df-cbb7-2c6a6a56b6e1"
      },
      "execution_count": 65,
      "outputs": [
        {
          "output_type": "stream",
          "name": "stdout",
          "text": [
            "[1, 2, 3, 4, 5, 6, 7, 8, 9, 10]\n",
            "The even numbers in the bracket are 5\n"
          ]
        }
      ]
    }
  ]
}