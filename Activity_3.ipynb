{
  "nbformat": 4,
  "nbformat_minor": 0,
  "metadata": {
    "colab": {
      "provenance": [],
      "authorship_tag": "ABX9TyPT3h1GGIQWAyVTaZ3QdcKS",
      "include_colab_link": true
    },
    "kernelspec": {
      "name": "python3",
      "display_name": "Python 3"
    },
    "language_info": {
      "name": "python"
    }
  },
  "cells": [
    {
      "cell_type": "markdown",
      "metadata": {
        "id": "view-in-github",
        "colab_type": "text"
      },
      "source": [
        "<a href=\"https://colab.research.google.com/github/seulwlrma/DSA-58010/blob/main/Activity_3.ipynb\" target=\"_parent\"><img src=\"https://colab.research.google.com/assets/colab-badge.svg\" alt=\"Open In Colab\"/></a>"
      ]
    },
    {
      "cell_type": "code",
      "execution_count": 3,
      "metadata": {
        "colab": {
          "base_uri": "https://localhost:8080/"
        },
        "id": "CEf5Td1wSjdi",
        "outputId": "9a1d3e50-c3e8-4f3f-fae5-f930c0c1d135"
      },
      "outputs": [
        {
          "output_type": "stream",
          "name": "stdout",
          "text": [
            "Pushed Element: 1\n",
            "Pushed Element: 2\n",
            "Pushed Element: 3\n",
            "Pushed Element: 4\n",
            "Pushed Element: 5\n",
            "The elements remaining in the stack are:['1', '2']\n",
            "The number of elements in the stack is now  2\n"
          ]
        }
      ],
      "source": [
        "# Stack implementation in python\n",
        "\n",
        "\n",
        "# Creating a stack\n",
        "def create_stack():\n",
        "    stack = []\n",
        "    return stack\n",
        "\n",
        "\n",
        "# Creating an empty stack\n",
        "def is_empty(stack):\n",
        "    return len(stack) == 0\n",
        "\n",
        "\n",
        "# Adding items into the stack\n",
        "def push(stack, item):\n",
        "    stack.append(item)\n",
        "    print(\"Pushed Element: \" + item)\n",
        "\n",
        "\n",
        "# Removing an element from the stack\n",
        "def pop(stack):\n",
        "    if (is_empty(stack)):\n",
        "        return \"The stack is empty\"\n",
        "    return stack.pop()\n",
        "\n",
        "\n",
        "#To determine the length of the stack\n",
        "def size():\n",
        "  return len(stack)\n",
        "\n",
        "stack = create_stack()\n",
        "push(stack, str(1))\n",
        "push(stack, str(2))\n",
        "push(stack, str(3))\n",
        "stack.pop()\n",
        "push(stack, str(4))\n",
        "stack.pop()\n",
        "push(stack, str(5))\n",
        "stack.pop()\n",
        "\n",
        "\n",
        "print(\"The elements remaining in the stack are:\"+ str(stack))\n",
        "print(\"The number of elements in the stack is now \", size())"
      ]
    }
  ]
}