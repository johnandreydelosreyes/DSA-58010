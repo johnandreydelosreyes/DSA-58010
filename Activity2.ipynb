{
  "nbformat": 4,
  "nbformat_minor": 0,
  "metadata": {
    "colab": {
      "provenance": [],
      "authorship_tag": "ABX9TyMRwp5kzIAvKJVKtpNsKddk",
      "include_colab_link": true
    },
    "kernelspec": {
      "name": "python3",
      "display_name": "Python 3"
    },
    "language_info": {
      "name": "python"
    }
  },
  "cells": [
    {
      "cell_type": "markdown",
      "metadata": {
        "id": "view-in-github",
        "colab_type": "text"
      },
      "source": [
        "<a href=\"https://colab.research.google.com/github/seulwlrma/DSA-58010/blob/main/Activity2.ipynb\" target=\"_parent\"><img src=\"https://colab.research.google.com/assets/colab-badge.svg\" alt=\"Open In Colab\"/></a>"
      ]
    },
    {
      "cell_type": "code",
      "execution_count": 13,
      "metadata": {
        "colab": {
          "base_uri": "https://localhost:8080/"
        },
        "id": "Ylu-AAohVFM6",
        "outputId": "552f7c5f-deb5-4fe7-f699-efdfeeff4092"
      },
      "outputs": [
        {
          "output_type": "stream",
          "name": "stdout",
          "text": [
            "2 >> 3 >> 5 >> 7 >> 11 >> 13 >> 17 >> 19 >> None\n"
          ]
        }
      ],
      "source": [
        "class linkedlist:\n",
        "    def __init__(self, value, second=None):\n",
        "        self.value = value\n",
        "        self.second = second\n",
        "\n",
        "node1 = linkedlist(\"2\")\n",
        "node2 = linkedlist(\"3\")\n",
        "node3 = linkedlist(\"5\")\n",
        "node4 = linkedlist(\"7\")\n",
        "node5 = linkedlist(\"11\")\n",
        "node6 = linkedlist(\"13\")\n",
        "node7 = linkedlist(\"17\")\n",
        "node8 = linkedlist(\"19\")\n",
        "\n",
        "node1.second = node2\n",
        "node2.second = node3\n",
        "node3.second = node4\n",
        "node4.second = node5\n",
        "node5.second = node6\n",
        "node6.second = node7\n",
        "node7.second = node8\n",
        "\n",
        "first = node1\n",
        "while True:\n",
        "    print(first.value, \">> \", end='')\n",
        "    if first.second is None:\n",
        "        print(\"None\")\n",
        "        break\n",
        "    first = first.second"
      ]
    }
  ]
}