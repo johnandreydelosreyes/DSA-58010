{
  "nbformat": 4,
  "nbformat_minor": 0,
  "metadata": {
    "colab": {
      "provenance": [],
      "authorship_tag": "ABX9TyMVStCe5/JoyxlUD9UgkC3/",
      "include_colab_link": true
    },
    "kernelspec": {
      "name": "python3",
      "display_name": "Python 3"
    },
    "language_info": {
      "name": "python"
    }
  },
  "cells": [
    {
      "cell_type": "markdown",
      "metadata": {
        "id": "view-in-github",
        "colab_type": "text"
      },
      "source": [
        "<a href=\"https://colab.research.google.com/github/seulwlrma/DSA-58010/blob/main/Activity2.ipynb\" target=\"_parent\"><img src=\"https://colab.research.google.com/assets/colab-badge.svg\" alt=\"Open In Colab\"/></a>"
      ]
    },
    {
      "cell_type": "markdown",
      "source": [],
      "metadata": {
        "id": "B-aqaKItcVhA"
      }
    },
    {
      "cell_type": "code",
      "source": [
        "class linkedlist:\n",
        "    def __init__(self, value, second=None):\n",
        "        self.value = value\n",
        "        self.second = second\n",
        "\n",
        "one = linkedlist(\"2\")\n",
        "two = linkedlist(\"3\")\n",
        "three = linkedlist(\"5\")\n",
        "four = linkedlist(\"7\")\n",
        "five = linkedlist(\"11\")\n",
        "six = linkedlist(\"13\")\n",
        "seven = linkedlist(\"17\")\n",
        "eight = linkedlist(\"19\")\n",
        "\n",
        "one.second = two\n",
        "two.second = three\n",
        "three.second = four\n",
        "four.second = five\n",
        "five.second = six\n",
        "six.second = seven\n",
        "seven.second = eight\n",
        "\n",
        "\n",
        "first = one\n",
        "while True:\n",
        "    print(first.value, \">> \", end='')\n",
        "    if first.second is None:\n",
        "        print(\"None\")\n",
        "        break\n",
        "    first = first.second"
      ],
      "metadata": {
        "colab": {
          "base_uri": "https://localhost:8080/"
        },
        "id": "Euzf8ZJQcVvf",
        "outputId": "658be830-3431-4624-923e-5aa4d770a253"
      },
      "execution_count": 8,
      "outputs": [
        {
          "output_type": "stream",
          "name": "stdout",
          "text": [
            "2 >> 3 >> 5 >> 7 >> 11 >> 13 >> 17 >> 19 >> None\n"
          ]
        }
      ]
    }
  ]
}