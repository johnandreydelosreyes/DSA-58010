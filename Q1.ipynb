{
  "nbformat": 4,
  "nbformat_minor": 0,
  "metadata": {
    "colab": {
      "name": "Untitled3.ipynb",
      "provenance": [],
      "authorship_tag": "ABX9TyMUMkj9rEdoMC6e8IngQG6L",
      "include_colab_link": true
    },
    "kernelspec": {
      "name": "python3",
      "display_name": "Python 3"
    },
    "language_info": {
      "name": "python"
    }
  },
  "cells": [
    {
      "cell_type": "markdown",
      "metadata": {
        "id": "view-in-github",
        "colab_type": "text"
      },
      "source": [
        "<a href=\"https://colab.research.google.com/github/seulwlrma/DSA-58010/blob/main/Q1.ipynb\" target=\"_parent\"><img src=\"https://colab.research.google.com/assets/colab-badge.svg\" alt=\"Open In Colab\"/></a>"
      ]
    },
    {
      "cell_type": "code",
      "execution_count": null,
      "metadata": {
        "id": "FF7hOFkbV-Mj"
      },
      "outputs": [],
      "source": [
        "class Shape:\n",
        "  def Area(self):\n",
        "    pass\n",
        "  def Perimeter(self):\n",
        "    pass\n",
        "\n",
        "\n",
        "\n",
        "class Rectangle:\n",
        "  def init(self,side1,side2):\n",
        "    self.side1 = side1\n",
        "    self.side2 = side2\n",
        "  def Area(self):\n",
        "    print(self.side1self.side2)\n",
        "  def Perimeter(self):\n",
        "    print(2(self.side1+self.side2))\n",
        "\n",
        "\n",
        "\n",
        "class Square(Shape):\n",
        "  def init(self,side):\n",
        "    self.side = side\n",
        "  def Area(self):\n",
        "    print(self.side*2)\n",
        "  def Perimeter(self):\n",
        "    print(self.side4)\n",
        "square = Square(4)\n",
        "square.Area()\n",
        "\n",
        "rect=Rectangle(7,3)\n",
        "rect.Area()\n",
        "\n",
        "square.Perimeter()\n",
        "rect.Perimeter()\n",
        "\n",
        "#In this code, polymorphism and inheritance are sometimes confused with one another since polymorphism replicates inheritance.\n",
        "#Contrarily, inheritance uses a straightforward copy of the parent class's function before adding anything.\n",
        "#Without any changes or modifications, the method for that class. \n",
        "#We can see that the class shape is the parent class in this specific code and the class square is the child class since there is a parenthesis that indicates it is related to or dependent on the shape class. \n",
        "#The child class also copied the Area and Perimeter methods in this code, but the polymorphism was only visible when it changed."
      ]
    }
  ]
}