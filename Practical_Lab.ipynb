{
  "nbformat": 4,
  "nbformat_minor": 0,
  "metadata": {
    "colab": {
      "name": "Practical Lab.ipynb",
      "provenance": [],
      "authorship_tag": "ABX9TyMLzxQeZb93NZAU2tR7xWva",
      "include_colab_link": true
    },
    "kernelspec": {
      "name": "python3",
      "display_name": "Python 3"
    },
    "language_info": {
      "name": "python"
    }
  },
  "cells": [
    {
      "cell_type": "markdown",
      "metadata": {
        "id": "view-in-github",
        "colab_type": "text"
      },
      "source": [
        "<a href=\"https://colab.research.google.com/github/seulwlrma/DSA-58010/blob/main/Practical_Lab.ipynb\" target=\"_parent\"><img src=\"https://colab.research.google.com/assets/colab-badge.svg\" alt=\"Open In Colab\"/></a>"
      ]
    },
    {
      "cell_type": "code",
      "execution_count": null,
      "metadata": {
        "colab": {
          "base_uri": "https://localhost:8080/"
        },
        "id": "hAlipO5fzwnq",
        "outputId": "7b85950d-f7ce-44a6-8aa7-fe0bf8a488a1"
      },
      "outputs": [
        {
          "output_type": "stream",
          "name": "stdout",
          "text": [
            "The given test scores are 26, 49, 98, 87, 62, 75\n",
            "The sum of the even number test scores is: 186\n"
          ]
        }
      ],
      "source": [
        "Scores = [26, 49, 98, 87, 62, 75]\n",
        "sum = 0\n",
        "\n",
        "for ts in Scores:\n",
        "    if ts % 2 == 0:\n",
        "        sum += ts \n",
        "\n",
        "print(\"The given test scores are 26, 49, 98, 87, 62, 75\" )        \n",
        "print(\"The sum of the even number test scores is:\", sum)"
      ]
    }
  ]
}