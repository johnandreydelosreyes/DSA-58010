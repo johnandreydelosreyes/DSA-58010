{
  "nbformat": 4,
  "nbformat_minor": 0,
  "metadata": {
    "colab": {
      "name": "Practical Lab.ipynb",
      "provenance": [],
      "authorship_tag": "ABX9TyPFjqzQQ+dqrZMKLAxKhfZh",
      "include_colab_link": true
    },
    "kernelspec": {
      "name": "python3",
      "display_name": "Python 3"
    },
    "language_info": {
      "name": "python"
    }
  },
  "cells": [
    {
      "cell_type": "markdown",
      "metadata": {
        "id": "view-in-github",
        "colab_type": "text"
      },
      "source": [
        "<a href=\"https://colab.research.google.com/github/seulwlrma/DSA-58010/blob/main/Practical_Lab.ipynb\" target=\"_parent\"><img src=\"https://colab.research.google.com/assets/colab-badge.svg\" alt=\"Open In Colab\"/></a>"
      ]
    },
    {
      "cell_type": "code",
      "execution_count": 5,
      "metadata": {
        "colab": {
          "base_uri": "https://localhost:8080/"
        },
        "id": "WXO1_DJjpghT",
        "outputId": "e9c15f98-4dd1-48d6-f443-87fd669ace64"
      },
      "outputs": [
        {
          "output_type": "stream",
          "name": "stdout",
          "text": [
            "The given test scores are 26, 49, 98, 87, 62, 75\n",
            "The sum of the even number test scores is: 186\n"
          ]
        }
      ],
      "source": [
        "\n",
        "Scores = [26, 49, 98, 87, 62, 75]\n",
        "sum = 0\n",
        "\n",
        "for i in Scores:\n",
        "    if i % 2 == 0:\n",
        "        sum += i \n",
        "\n",
        "print(\"The given test scores are 26, 49, 98, 87, 62, 75\" )        \n",
        "print(\"The sum of the even number test scores is:\", sum)\n"
      ]
    }
  ]
}