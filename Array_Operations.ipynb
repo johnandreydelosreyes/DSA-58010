{
  "nbformat": 4,
  "nbformat_minor": 0,
  "metadata": {
    "colab": {
      "provenance": [],
      "authorship_tag": "ABX9TyONQjOFZI7PMqEMD7DxRPZI",
      "include_colab_link": true
    },
    "kernelspec": {
      "name": "python3",
      "display_name": "Python 3"
    },
    "language_info": {
      "name": "python"
    }
  },
  "cells": [
    {
      "cell_type": "markdown",
      "metadata": {
        "id": "view-in-github",
        "colab_type": "text"
      },
      "source": [
        "<a href=\"https://colab.research.google.com/github/seulwlrma/DSA-58010/blob/main/Array_Operations.ipynb\" target=\"_parent\"><img src=\"https://colab.research.google.com/assets/colab-badge.svg\" alt=\"Open In Colab\"/></a>"
      ]
    },
    {
      "cell_type": "code",
      "execution_count": 1,
      "metadata": {
        "colab": {
          "base_uri": "https://localhost:8080/"
        },
        "id": "3CdIUAvyPHG3",
        "outputId": "361a4e81-cccc-46dd-f3d3-50cfe8de2e0d"
      },
      "outputs": [
        {
          "output_type": "stream",
          "name": "stdout",
          "text": [
            "[1, 2, 3]\n"
          ]
        }
      ],
      "source": [
        "#creating an arrey of number elements \n",
        "\n",
        "\n",
        "num = [1,2,3] #3x3 matrix\n",
        "print(num)"
      ]
    },
    {
      "cell_type": "code",
      "source": [
        "#looping\n",
        "animals = [\"dog\",\"cat\",\"fish\"] #3x3 matrix\n",
        "for x in animals:\n",
        "    print(x)"
      ],
      "metadata": {
        "colab": {
          "base_uri": "https://localhost:8080/"
        },
        "id": "HhKexOIEPV1W",
        "outputId": "7305f623-24bb-4bbe-f08a-a8d8134a54a8"
      },
      "execution_count": 2,
      "outputs": [
        {
          "output_type": "stream",
          "name": "stdout",
          "text": [
            "dog\n",
            "cat\n",
            "fish\n"
          ]
        }
      ]
    },
    {
      "cell_type": "code",
      "source": [
        "#looping breaking\n",
        "animals = [\"dog\",\"cat\",\"fish\"] #3x3 matrix\n",
        "for x in animals:\n",
        "  print(x)\n",
        "  if x==\"cat\":\n",
        "    break"
      ],
      "metadata": {
        "colab": {
          "base_uri": "https://localhost:8080/"
        },
        "id": "jleOBzI5PX-F",
        "outputId": "215a0d17-90e1-4154-cded-e66467a58630"
      },
      "execution_count": 3,
      "outputs": [
        {
          "output_type": "stream",
          "name": "stdout",
          "text": [
            "dog\n",
            "cat\n"
          ]
        }
      ]
    },
    {
      "cell_type": "code",
      "source": [
        "animals = [\"dog\",\"cat\",\"fish\"]\n",
        "x=animals [2]\n",
        "y=animals [1]\n",
        "print(x)\n",
        "print(y)\n"
      ],
      "metadata": {
        "colab": {
          "base_uri": "https://localhost:8080/"
        },
        "id": "Myc3Ss9uPaU8",
        "outputId": "485eb09b-e571-4dd0-d2b1-da5dde7789f7"
      },
      "execution_count": 4,
      "outputs": [
        {
          "output_type": "stream",
          "name": "stdout",
          "text": [
            "fish\n",
            "cat\n"
          ]
        }
      ]
    },
    {
      "cell_type": "code",
      "source": [
        "#modifying\n",
        "animals = [\"dog\",\"cat\",\"fish\"]\n",
        "animals[0]= \"bird\"\n",
        "print (animals)"
      ],
      "metadata": {
        "colab": {
          "base_uri": "https://localhost:8080/"
        },
        "id": "i_TscbUrPdON",
        "outputId": "16837833-91b8-4100-9d4c-58581d43d2ce"
      },
      "execution_count": 5,
      "outputs": [
        {
          "output_type": "stream",
          "name": "stdout",
          "text": [
            "['bird', 'cat', 'fish']\n"
          ]
        }
      ]
    },
    {
      "cell_type": "code",
      "source": [
        "#inserting array elements \n",
        "animals = [\"dog\",\"cat\",\"fish\"]\n",
        "animals.append(\"monkey\")\n",
        "print (animals)"
      ],
      "metadata": {
        "colab": {
          "base_uri": "https://localhost:8080/"
        },
        "id": "51mgxifDPfOc",
        "outputId": "589223e5-0e20-457f-9431-e4f27262abaf"
      },
      "execution_count": 6,
      "outputs": [
        {
          "output_type": "stream",
          "name": "stdout",
          "text": [
            "['dog', 'cat', 'fish', 'monkey']\n"
          ]
        }
      ]
    },
    {
      "cell_type": "code",
      "source": [
        "#removing\n",
        "animals = [\"dog\",\"cat\",\"fish\"]\n",
        "animals.pop(2)\n",
        "animals.pop(1)\n",
        "print(animals)"
      ],
      "metadata": {
        "colab": {
          "base_uri": "https://localhost:8080/"
        },
        "id": "MPGCaJDPPhBU",
        "outputId": "ed7ad049-0ee7-49e4-ba28-f336def9cf42"
      },
      "execution_count": 7,
      "outputs": [
        {
          "output_type": "stream",
          "name": "stdout",
          "text": [
            "['dog']\n"
          ]
        }
      ]
    },
    {
      "cell_type": "code",
      "source": [
        "#length of the array\n",
        "animals = [\"dog\",\"cat\",\"fish\"]\n",
        "x=len(animals)\n",
        "print(animals)"
      ],
      "metadata": {
        "colab": {
          "base_uri": "https://localhost:8080/"
        },
        "id": "rpdZlL9dPjB8",
        "outputId": "6c2134e5-0838-44e8-ce43-d582409373ce"
      },
      "execution_count": 9,
      "outputs": [
        {
          "output_type": "stream",
          "name": "stdout",
          "text": [
            "['dog', 'cat', 'fish']\n"
          ]
        }
      ]
    },
    {
      "cell_type": "code",
      "source": [
        "import numpy as np\n",
        "num = np.array([[1,2],[3,4]])   \n",
        "print (num)"
      ],
      "metadata": {
        "id": "pKMWPV8yPm3F",
        "outputId": "3b568cff-b76c-4582-e50e-aa51e3f0fc70",
        "colab": {
          "base_uri": "https://localhost:8080/"
        }
      },
      "execution_count": 10,
      "outputs": [
        {
          "output_type": "stream",
          "name": "stdout",
          "text": [
            "[[1 2]\n",
            " [3 4]]\n"
          ]
        }
      ]
    }
  ]
}